{
 "cells": [
  {
   "cell_type": "markdown",
   "metadata": {},
   "source": [
    "# QF1: Laptop college1a"
   ]
  },
  {
   "cell_type": "markdown",
   "metadata": {},
   "source": [
    "-------------------------------------------------------------------------------------------------\n",
    "### Hoe werkt dit laptopcollege?\n",
    "\n",
    "Dit laptopcollege bevat meerdere opdrachten waarin de stof uit het QF1 college wordt uitgediept. Met behulp \n",
    "van *Python* binnen een *Jupyter notebook* ga je een aantal berekeningen uitvoeren. Deze berekeningen zijn er op gericht om inzicht te geven in quantummechanica en niet zozeer om Python te leren. De\n",
    "meeste Python code die je nodig zal hebben wordt je dan ook aangeboden. Nieuw zal het gebruik zijn van Jupyter notebooks om de opdrachten te structureren en de *sympy* module in python om symbolische berekeningen uit te voeren.\n",
    "\n",
    "-------------------------------------------------------------------------------------------------\n",
    "\n",
    "### Python functies en modules\n",
    "\n",
    "* **sympy**: symbolische rekenmodule voor python. https://www.sympy.org/en/index.html. De mogelijkheden zijn eindeloos, maar een paar handige functies:\n",
    "   - integrate(f(x), (x, x0, x1)) integreert een functie f(x) van x0 tot x1. Als grens kan je simpel oneindig aangeven met **oo**\n",
    "   - simplify(expression) maakt de uitdrukking (meestal) simpeler\n",
    "* **sympy.physics.quantum**: quantum module binnen sympy https://docs.sympy.org/latest/modules/physics/quantum/index.html. Enkele functies die we gebruik?en tijdens het laptopcollege zijn:\n",
    "   - Wavefunction(psi(x),x) om een golffunctie te definieren\n",
    "   - Wavefunction.expr:  geeft de functie psi(x)\n",
    "   - Wavefunction.conjugate(): geeft de complex geconjugeerde van de golffunctie\n",
    "   - DifferentialOperator(g(f(x)),f(x)): definieert een quantummechanische operator\n",
    "   - qapply(operator\\*wavefunction): laat een operator los op een golffunctie\n",
    "*  **ipywidgets**: python module voor het maken van interactieve graphics https://ipywidgets.readthedocs.io/en/latest/.\n",
    "   - interactive(f(i), i=(i0,i1)): roept functie aan met 'slider bar' die waarden tussen i0 en i1 kan aannemen. Handig om bijvoorbeeld in f(i) een plaatje te maken.\n",
    "* **matplotlib**: plotting in python die jullie al eerder hebben gebruikt https://matplotlib.org/. Maar nu ook te gebruiken voor het maken van animaties.\n",
    "   - animation.FuncAnimation(): maak een animatie van bijvoorbeeld een tijdsafhankelijke golffunctie.\n",
    "   "
   ]
  },
  {
   "cell_type": "code",
   "execution_count": null,
   "metadata": {},
   "outputs": [],
   "source": [
    "import sympy\n",
    "from sympy import *\n",
    "from sympy.plotting import plot\n",
    "from sympy import Derivative, Function, Symbol\n",
    "from sympy.physics.quantum.operator import DifferentialOperator\n",
    "from sympy.physics.quantum.state import Wavefunction\n",
    "from sympy.physics.quantum.qapply import qapply\n",
    "\n",
    "%matplotlib inline\n",
    "from ipywidgets import interactive\n",
    "import matplotlib.pyplot as plt\n",
    "import numpy as np"
   ]
  },
  {
   "cell_type": "markdown",
   "metadata": {},
   "source": [
    "---------------------------------------------------------------------------\n",
    "## Opdracht 1: Een golfpakket\n",
    "\n",
    "Gegeven $\\Psi(x,t) = A \\exp (-(x^2 + \\jmath t))$ met $A$ en $a$ reeel en positief (Hint: we hebben $\\hbar=1$ gezet)."
   ]
  },
  {
   "cell_type": "code",
   "execution_count": null,
   "metadata": {},
   "outputs": [],
   "source": [
    "x,t=symbols('x, t',real=True)\n",
    "Psi_no_normalization = Wavefunction(exp(-(x**2+ 1j*t)), x, (t,0,oo))"
   ]
  },
  {
   "cell_type": "markdown",
   "metadata": {},
   "source": [
    "**1a)** Bepaal de normalisatieconstante A."
   ]
  },
  {
   "cell_type": "code",
   "execution_count": null,
   "metadata": {},
   "outputs": [],
   "source": [
    "A = 1/sqrt(integrate(Psi_no_normalization.conjugate().expr * Psi_no_normalization.expr, (x,-oo,+oo)))\n",
    "print('De normalisatieconstante A=',A)"
   ]
  },
  {
   "cell_type": "markdown",
   "metadata": {},
   "source": [
    "**1b)** Herdefinieer de golffunctie met de normalisatieconstante en verifieer je antwoord."
   ]
  },
  {
   "cell_type": "code",
   "execution_count": null,
   "metadata": {},
   "outputs": [],
   "source": [
    "Psi = Wavefunction(Psi_no_normalization.expr * A, x, (t,0,oo))\n",
    "A = 1/sqrt(integrate(Psi.conjugate().expr * Psi.expr, (x,-oo,+oo)))\n",
    "print('Nieuwe normalisatie =',A)\n"
   ]
  },
  {
   "cell_type": "markdown",
   "metadata": {},
   "source": [
    "**1c)** Definieer de kinetische energie operator (*DifferentialOperator*) en laat deze werken op onze golffunctie met behulp van de *qapply()* functie. "
   ]
  },
  {
   "cell_type": "code",
   "execution_count": null,
   "metadata": {},
   "outputs": [],
   "source": [
    "# placeholder function voor de definitie van de kinetische energie operator in de volgende regel\n",
    "f=Function('psi') \n",
    "# definitie vann de kinetische energie operator\n",
    "E_kin = DifferentialOperator(-Derivative(f(x,t),(x,2))/2,f(x,t))\n",
    "# laat de kinetische energie operator werken op de golffunctie\n",
    "E_kin_Psi = simplify(qapply(E_kin*Psi))\n",
    "# .... en laat maar even het resultaat zien\n",
    "print(\"E_kin_operator*Psi =\")\n",
    "E_kin_Psi.expr"
   ]
  },
  {
   "cell_type": "markdown",
   "metadata": {},
   "source": [
    "**1d)** Definieer nu de 'andere kant' van de Schrodinger vergelijking: de $i \\partial/\\partial t$ kant dus. En laat deze operator ook op de golffunctie werken"
   ]
  },
  {
   "cell_type": "code",
   "execution_count": null,
   "metadata": {},
   "outputs": [],
   "source": [
    "# definieer de tijdsafgeleide operator \n",
    "DT = DifferentialOperator(1j*Derivative(f(x,t),t),f(x,t))\n",
    "# laat de operator werken op de golffunctie\n",
    "DT_Psi = simplify(qapply(DT*Psi))\n",
    "# .... en laat maar even het resultaat zien\n",
    "DT_Psi.expr\n",
    "simplify(DT_Psi.expr/Psi.expr)"
   ]
  },
  {
   "cell_type": "markdown",
   "metadata": {},
   "source": [
    "**1e)** Kan je uitvinden welke potentiele energie-operator hoort bij de $\\Psi(x,t)$?"
   ]
  },
  {
   "cell_type": "code",
   "execution_count": null,
   "metadata": {},
   "outputs": [],
   "source": [
    "V = Function('V')\n",
    "V = simplify((DT_Psi.expr - E_kin_Psi.expr)/Psi.expr)\n",
    "V"
   ]
  },
  {
   "cell_type": "markdown",
   "metadata": {},
   "source": [
    "--------------------------------------------------------------------------\n",
    "## Opdracht 2: De oneindig diepe put"
   ]
  },
  {
   "cell_type": "markdown",
   "metadata": {},
   "source": [
    "**2a)** Controleer dat de oplossingen voor de oneindig diepe put orthonormaal zijn voor de verschillende energie-niveaus $n$."
   ]
  },
  {
   "cell_type": "code",
   "execution_count": null,
   "metadata": {},
   "outputs": [],
   "source": [
    "# stap1: definieer de eigenfuncties\n",
    "x = symbols('x',positive=True)\n",
    "a = 1.0\n",
    "def put_functie(n):\n",
    "    w = Wavefunction(sin(n*pi*x/a)*sqrt(2/a),(x,0,a))\n",
    "    return w\n",
    "\n",
    "# definieer het inproduct\n",
    "def inproduct(m,n):\n",
    "    inproduct = integrate(put_functie(m).conjugate().expr*put_functie(n).expr,(x,0,a))\n",
    "    return inproduct"
   ]
  },
  {
   "cell_type": "code",
   "execution_count": null,
   "metadata": {},
   "outputs": [],
   "source": [
    "# print het inproduct uit voor verschillende combinaties van eigenfuncties\n",
    "for i in range(1,4):\n",
    "    for j in range(1,4):\n",
    "        print(\"<\",i,\"|\",j,\">=\",inproduct(i,j))"
   ]
  },
  {
   "cell_type": "markdown",
   "metadata": {},
   "source": [
    "**2b)** Maak een grafiek van de oplossingen voor een oneindig diepe put voor $a=1$ met $n$ als het te kiezen energie-niveau."
   ]
  },
  {
   "cell_type": "code",
   "execution_count": null,
   "metadata": {},
   "outputs": [],
   "source": [
    "#\n",
    "# definieer een plot functie voor put_functie_n(x)\n",
    "#\n",
    "\n",
    "\n",
    "def wave_plot(n):\n",
    "    #\n",
    "    # converteer de sympy expressie in een numerieke functie om met matplotlib te gebruiken\n",
    "    #\n",
    "    put_l = lambdify(x,put_functie(n).expr, 'numpy')\n",
    "    #\n",
    "    # bereken de x en t waarden om te plotten\n",
    "    #\n",
    "    xx = np.arange(0.,a,0.01)\n",
    "    yy = put_l(xx)\n",
    "    #\n",
    "    # en plotten maar.....\n",
    "    #\n",
    "    plt.plot(xx,yy,'r-')\n",
    "    plt.ylim([-2.,2.])\n",
    "    plt.xlabel('x')\n",
    "    ytitle = '$\\psi_{'+str(n)+'}(x)$'\n",
    "    plt.ylabel(ytitle)\n",
    "    plt.axhline(color='black')\n",
    "    plt.show()\n",
    "    #my_plot = plot(put_functie(n).expr,(x,0.,a))\n",
    "#\n",
    "# ... en maak hier de interactieve plot\n",
    "#\n",
    "interactive_plot = interactive(wave_plot, n=(1, 10), ylim=([-2.,2.]))\n",
    "interactive_plot"
   ]
  }
 ],
 "metadata": {
  "kernelspec": {
   "display_name": "Python 3",
   "language": "python",
   "name": "python3"
  },
  "language_info": {
   "codemirror_mode": {
    "name": "ipython",
    "version": 3
   },
   "file_extension": ".py",
   "mimetype": "text/x-python",
   "name": "python",
   "nbconvert_exporter": "python",
   "pygments_lexer": "ipython3",
   "version": "3.7.6"
  }
 },
 "nbformat": 4,
 "nbformat_minor": 4
}
