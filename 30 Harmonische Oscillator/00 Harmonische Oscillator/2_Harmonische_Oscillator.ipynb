{
 "cells": [
  {
   "cell_type": "markdown",
   "metadata": {},
   "source": [
    "# QF1: Laptop college1b"
   ]
  },
  {
   "cell_type": "markdown",
   "metadata": {},
   "source": [
    "-------------------------------------------------------------------------------------------------\n",
    "\n",
    "### Python functies en modules\n",
    "\n",
    "* **sympy**: symbolische rekenmodule voor python. https://www.sympy.org/en/index.html. De mogelijkheden zijn eindeloos, maar een paar handige functies:\n",
    "   - integrate(f(x), (x, x0, x1)) integreert een functie f(x) van x0 tot x1. Als grens kan je simpel oneindig aangeven met **oo**\n",
    "   - simplify(expression) maakt de uitdrukking (meestal) simpeler\n",
    "* **sympy.physics.quantum**: quantum module binnen sympy https://docs.sympy.org/latest/modules/physics/quantum/index.html. Enkele functies die we gebruik?en tijdens het laptopcollege zijn:\n",
    "   - Wavefunction(psi(x),x) om een golffunctie te definieren\n",
    "   - Wavefunction.expr:  geeft de functie psi(x)\n",
    "   - Wavefunction.conjugate(): geeft de complex geconjugeerde van de golffunctie\n",
    "   - DifferentialOperator(g(f(x)),f(x)): definieert een quantummechanische operator\n",
    "   - qapply(operator\\*wavefunction): laat een operator los op een golffunctie\n",
    "*  **ipywidgets**: python module voor het maken van interactieve graphics https://ipywidgets.readthedocs.io/en/latest/.\n",
    "   - interactive(f(i), i=(i0,i1)): roept functie aan met 'slider bar' die waarden tussen i0 en i1 kan aannemen. Handig om bijvoorbeeld in f(i) een plaatje te maken.\n",
    "* **matplotlib**: plotting in python die jullie al eerder hebben gebruikt https://matplotlib.org/. Maar nu ook te gebruiken voor het maken van animaties.\n",
    "   - animation.FuncAnimation(): maak een animatie van bijvoorbeeld een tijdsafhankelijke golffunctie.\n",
    "   "
   ]
  },
  {
   "cell_type": "code",
   "execution_count": null,
   "metadata": {},
   "outputs": [],
   "source": [
    "import sympy\n",
    "from sympy import *\n",
    "from sympy.plotting import plot\n",
    "from sympy import Derivative, Function, Symbol\n",
    "from sympy.physics.quantum.operator import DifferentialOperator\n",
    "from sympy.physics.quantum.state import Wavefunction\n",
    "from sympy.physics.quantum.qapply import qapply\n",
    "import scipy.integrate as Nintegrate\n",
    "\n",
    "\n",
    "%matplotlib inline\n",
    "from ipywidgets import interactive\n",
    "import matplotlib.pyplot as plt\n",
    "import numpy as np"
   ]
  },
  {
   "cell_type": "markdown",
   "metadata": {},
   "source": [
    "## Opgave3: De Harmonische oscillator\n",
    "\n",
    "In deze opdracht gaan we de harmonnische oscillator bestuderen, waarbij het doel is om de tijdsafhankelijke oplossingen van de Schrodinger vergeljking te bekijken. We gaan dus eigenfuncties vinden en gegeven begincondities de coefficienten uitrekenen die horen bij de stationaire oplossingen. Met behullp van een python animatie kan je kijken of je het gedrag van de harmonische oscillator kan begrijpen. Je kan zien wanneer de harmonische oscillator zich 'klassiek' gedraagt en wanneer het gedrag meer een 'quantum' signatuur heeft. \n",
    "\n",
    "------------------------------------------------------------------\n",
    "\n",
    "#### Ladderoperatoren en Eigenfuncties\n",
    "\n",
    "De Schrodinger vergelijking voor de harmonische oscillator (zie Griffiths 2.3) wordt gegeven door:\n",
    "\n",
    "$$\\imath \\hbar \\frac{\\partial \\Psi(x,t)}{\\partial t} = -\\frac{\\hbar^2}{2 m} \\frac{\\partial^2\\Psi(x,t)}{\\partial x^2} + \\frac{1}{2} m \\omega^2 x^2 \\Psi(x,t)$$ \n",
    "\n",
    "Voor de berekeningen tijdens het laptop college maken we ons leven gemakkelijk. We stellen: $\\hbar=m=\\omega=1$. De ladderoperatoren worden dan gegeven door:\n",
    "\n",
    "$$a_{\\pm} = \\frac{1}{\\sqrt{2}} \\left( \\mp i \\hat{p} + \\hat{x} \\right) =  \\frac{1}{\\sqrt{2}} \\left( \\mp \\frac{\\partial}{\\partial x} + x \\right) $$"
   ]
  },
  {
   "cell_type": "markdown",
   "metadata": {},
   "source": [
    "**3a)** Definieer de ladderoperatoren $a_{\\pm}$ met behulp van de *DifferentialOperator* en *Derivative* uit sympy."
   ]
  },
  {
   "cell_type": "code",
   "execution_count": null,
   "metadata": {},
   "outputs": [],
   "source": [
    "# ladder operatoren\n",
    "f= Function('psi')\n",
    "x= Symbol('x')\n",
    "\n",
    "a_plus = DifferentialOperator((-  Derivative(f(x),x) + x*f(x))/sympy.sqrt(2),f(x))\n",
    "a_min  = DifferentialOperator((+  Derivative(f(x),x) + x*f(x))/sympy.sqrt(2),f(x))"
   ]
  },
  {
   "cell_type": "markdown",
   "metadata": {},
   "source": [
    "**3b)** Definieer ook de Hamiltoniaan. (*Helaas is dat niet eenvoudig in sympy als je ladderoperatoren gebruikt: dus het beste kan je de Hamiltoniaan gebruiken zoals die hierboven in de Schrodinger vergelijking staat*)"
   ]
  },
  {
   "cell_type": "code",
   "execution_count": null,
   "metadata": {},
   "outputs": [],
   "source": [
    "# hamiltoniaan\n",
    "H = DifferentialOperator(-Derivative(f(x),(x,2))/2 + x**2/2 * f(x), f(x))"
   ]
  },
  {
   "cell_type": "markdown",
   "metadata": {},
   "source": [
    "**3c)** Maak een functie die de n-de harmonische oscillator eigenfunctie teruggeeft. Dit zal dus een recursieve functie zijn waarbij je $a_+$ gebruikt om vanuit de grondtoestand de eigenfuncties met hogere energie te genereren. \n",
    "\n",
    "De golffunctie van de grondtoestand wordt gegeven door:\n",
    "\n",
    "$$\\psi_0(x) = \\frac{1}{\\pi^{1/4}} e^{-x^2/2}$$"
   ]
  },
  {
   "cell_type": "code",
   "execution_count": null,
   "metadata": {},
   "outputs": [],
   "source": [
    "def generate_psi(n):\n",
    "    #\n",
    "    # genereer the n-de harmonische oscillator eigenfunctie\n",
    "    #   \n",
    "    \n",
    "    #nn = Symbol('nn')\n",
    "    \n",
    "    psi=Wavefunction(sympy.exp(-x**2/2) / sympy.pi**(0.25), x)\n",
    "    for i in range(0,n):\n",
    "        # laat de a_plus operator werken op de golffunctie\n",
    "        psi = qapply(a_plus*psi)\n",
    "        # de factor 1/sqrt(i+1) is nodig om de normalisatie van de golffunctie te behouden\n",
    "        g = psi.expr / sympy.sqrt(i+1)\n",
    "        psi = Wavefunction(g,x)\n",
    "    return psi"
   ]
  },
  {
   "cell_type": "markdown",
   "metadata": {},
   "source": [
    "**3d)** Genereer de eigenfuncties met $n=5,10,12$ en bereken de energie-eigenwaarden. Kloppen de antwoorden met je verwachting?"
   ]
  },
  {
   "cell_type": "code",
   "execution_count": null,
   "metadata": {},
   "outputs": [],
   "source": [
    "# Hint: gebruik qapply, de hamiltoniaan, en de functie generate_psi(n)....   \n"
   ]
  },
  {
   "cell_type": "markdown",
   "metadata": {},
   "source": [
    "**3e)** Maak een functie om de orthogonaliteit van de oplossingen te verifieren: $\\int_{-\\infty}^{\\infty} \\psi_m(x)^* \\psi_n(x) dx$. En test de functie op een paar paren van eigenfuncties."
   ]
  },
  {
   "cell_type": "code",
   "execution_count": null,
   "metadata": {},
   "outputs": [],
   "source": [
    "#check normalization\n",
    "def orthonormality(i,j):\n",
    "    value = integrate(generate_psi(i).expr * generate_psi(j).expr,(x,-oo,+oo))\n",
    "    return value"
   ]
  },
  {
   "cell_type": "code",
   "execution_count": null,
   "metadata": {},
   "outputs": [],
   "source": [
    "# Hint: voor het testen gebruik de functie hierboven....."
   ]
  },
  {
   "cell_type": "markdown",
   "metadata": {},
   "source": [
    "**3f)** Maak  een interactieve plot om de eigenfuncties weer te geven van $n=0 ... 50$. Verklaar waarom de eigenfuncties met hogere $n$ zich steeds verder uitstrekken tot grotere waarden van $x$."
   ]
  },
  {
   "cell_type": "code",
   "execution_count": null,
   "metadata": {},
   "outputs": [],
   "source": [
    "xmin = -10\n",
    "xmax = +10\n",
    "\n",
    "def wave_plot(m):\n",
    "    title_string = '$\\psi_{' +str(m)+'}(x)$'\n",
    "    my_plot = plot(generate_psi(m).expr,(x,xmin,xmax), ylim=([-1.,1.]), title=title_string,ytitle='') \n",
    "    \n",
    "interactive_plot = interactive(wave_plot, m=(0, 50))\n",
    "interactive_plot"
   ]
  },
  {
   "cell_type": "markdown",
   "metadata": {},
   "source": [
    "-----------------------------------------------------------------------\n",
    "\n",
    "#### Oplossen van de tijdsafhankelijke Schrodinger vergelijking\n",
    "\n",
    "Nu we de eigenfuncties $\\psi_n(x)$ hebben, kunnen we de tijdsafhankelijke Schrodinger vergelijking oplossen. We gaan hiervoor te werk zoals in het college is besproken. De eerste stap is het definieren van een golffunctie, $\\Psi(x,t=0)\\equiv \\Psi_0(x)$ als beginconditie.\n",
    "\n",
    "Herhaal alle onderstaande berekeningen voor de volgende begincondities:\n",
    "  - $\\Psi_0(x)$ = Gauss + Gauss\n",
    "  - $\\Psi_0(x)$ = Gauss - Gauss\n",
    "  - $\\Psi_0(x)$ = Gauss"
   ]
  },
  {
   "cell_type": "markdown",
   "metadata": {},
   "source": [
    "**3g)** Definieer en plot $\\Psi(x,t=0)$."
   ]
  },
  {
   "cell_type": "code",
   "execution_count": null,
   "metadata": {},
   "outputs": [],
   "source": [
    "# Met de relatieve amplitude kan je kiezen of de tweede Gauss een relatief minteken of plusteken heeft. \n",
    "# Of je kan de tweede Gauss helemaal op 0 zetten.\n",
    "relatieve_amplitude = +1\n",
    "\n",
    "# positie, breedte en hoogte van de 1e Gauss\n",
    "x0 = -3\n",
    "sigma0 = 1.0\n",
    "h0 = 1.0\n",
    "# positie, breedte en hoogte van de 2e Gauss\n",
    "x1 = +3\n",
    "sigma1 = 1.0\n",
    "h1 = 1.0\n",
    "\n",
    "#\n",
    "# definieer de golffunctie op t=0\n",
    "#\n",
    "Psi0 = Wavefunction(h0*exp(-(x-x0)**2/sigma0**2/2)+relatieve_amplitude*h1*exp(-(x+x0)**2/sigma1**2/2),x)\n",
    "#\n",
    "# niet vergeten te normaliseren\n",
    "#\n",
    "Psi0 = Psi0.normalize()\n",
    "#\n",
    "# ... en even te plotten\n",
    "#\n",
    "p=plot(Psi0.expr,(x,xmin,xmax))"
   ]
  },
  {
   "cell_type": "markdown",
   "metadata": {},
   "source": [
    "**3h)** Bereken de coefficienten $c_n$ met onze 'standaard methode':\n",
    "$$c_n = \\int_{-\\infty}^{+\\infty} \\psi_n^*(x) \\Psi_0(x) dx$$\n",
    "\n",
    "Als je een dubbel Gaussische verdeling hebt gedefinieerd voor $\\Psi(x,t=0)$ leg dan uit wat opvalt aan $c_n$. "
   ]
  },
  {
   "cell_type": "code",
   "execution_count": null,
   "metadata": {},
   "outputs": [],
   "source": [
    "#\n",
    "# aantal termen dat we willen hebben in onze oplossing....\n",
    "#\n",
    "nterm = 30\n",
    "\n",
    "coef = []\n",
    "energy = []\n",
    "psi_arr = [] \n",
    "\n",
    "csum = 0\n",
    "for i in range(nterm):\n",
    "    psi_lambda = lambdify(x,generate_psi(i)(x),'scipy')\n",
    "    psi_arr.append(psi_lambda)\n",
    "    integrand = generate_psi(i).expr * Psi0.expr \n",
    "    integrand_lambda = lambdify(x,integrand,'scipy')\n",
    "    c = Nintegrate.quad(integrand_lambda, -oo, +oo)[0]\n",
    "    csum = csum + c*c\n",
    "    coef.append(c)\n",
    "    energy.append(i+1/2)\n",
    "    print(i,' c(',i,')=',c,' E(',i,')=',i+1/2)\n",
    "\n",
    "print('normalisatie csum = ',csum)"
   ]
  },
  {
   "cell_type": "markdown",
   "metadata": {},
   "source": [
    "**3i)** Nu gaan we ons klaarmaken voor het plotten van de tijdsafhankelijke oplossing van de golffunctie. Daarvoor componeren we: $\\sum c_n \\psi_n(x) \\exp(-\\imath E_n t/\\hbar)$."
   ]
  },
  {
   "cell_type": "code",
   "execution_count": null,
   "metadata": {},
   "outputs": [],
   "source": [
    "time = 0\n",
    "def psi_anim(xx,t):\n",
    "    value  = 0\n",
    "    for i in range(nterm):\n",
    "        value = value + coef[i]*psi_arr[i](xx)*np.exp(-1j*energy[i]*t)\n",
    "    return value"
   ]
  },
  {
   "cell_type": "markdown",
   "metadata": {},
   "source": [
    "**3j)** En animeer maar die golffunctie (duurt even, maar dan heb je ook wat). \n",
    "  - Verklaar wat je ziet. \n",
    "  - Leg uit of we hier te maken hebben met typisch klassiek of typisch quantum gedrag. Voor zowel alle $\\Psi_0(x)$.\n",
    "  - Alle $c_n \\in \\mathbf{R}$. Hoe komt het dat $\\Psi(x,t)$ toch een imaginaire component heeft?\n",
    "  - Waarom geldt $\\Psi(x=0,t)=0$ als $\\Psi(x,t=0)$ de asymmetrische dubbele Gauss is?\n",
    "\n",
    "Is je opgevallen dat Gauss+Gauss en Gauss-Gauss op $t=0$ correspondeert met dezelfde kansverdeling, omdat $|\\Psi(x,t=0)|^2$ in hetzelfde is. \n",
    "  - Kan je verklaren dat de tijdevolutie toch zo anders is? "
   ]
  },
  {
   "cell_type": "code",
   "execution_count": null,
   "metadata": {},
   "outputs": [],
   "source": [
    "#\n",
    "# In this animation we show both Re(Psi(x,t)), Im(Psi(x,t), +-|Psi(x,t)|. \n",
    "#\n",
    "import numpy as np\n",
    "from matplotlib import pyplot as plt\n",
    "from matplotlib import animation\n",
    "\n",
    "xlim = (-10,10)\n",
    "# First set up the figure, the axis, and the plot element we want to animate\n",
    "fig = plt.figure(figsize=(10,8))\n",
    "ax = plt.axes(xlim=xlim, ylim=(-1, 1))\n",
    "line_re, = ax.plot([], [], lw=1, linestyle=':', color='blue', label='Re($\\Psi$)')\n",
    "line_im, = ax.plot([], [], lw=1, linestyle='--', color='blue', label='Im($\\Psi$)')\n",
    "line_abs_pos, = ax.plot([], [], lw=2, linestyle='-', color='red', label='+-|$\\Psi$|')\n",
    "line_abs_neg, = ax.plot([], [], lw=2, linestyle='-', color='red')\n",
    "\n",
    "ax.legend(prop=dict(size=12))\n",
    "ax.set_xlabel('$x$',fontsize=18)\n",
    "ax.set_ylabel(r'$\\psi$',fontsize=18)\n",
    "\n",
    "\n",
    "# initialization function: plot the background of each frame\n",
    "def init():\n",
    "    line_re.set_data([], [])\n",
    "    line_im.set_data([], [])\n",
    "    line_abs_pos.set_data([], [])\n",
    "    line_abs_neg.set_data([], [])\n",
    "\n",
    "    return line_re,line_im,line_abs_pos,line_abs_neg,\n",
    "\n",
    "# animation function.  This is called sequentially\n",
    "def animate(i):\n",
    "    time = i*0.01\n",
    "    xx = np.arange(xlim[0],xlim[1],0.01)\n",
    "    val = psi_anim(xx,time)\n",
    "    yre = val.real\n",
    "    line_re.set_data(xx, yre)\n",
    "    yim = val.imag\n",
    "    line_im.set_data(xx, yim)\n",
    "    \n",
    "    line_abs_pos.set_data(xx,+abs(val))\n",
    "    line_abs_neg.set_data(xx,-abs(val))\n",
    "\n",
    "    return line_re,line_im,line_abs_pos,line_abs_neg,\n",
    "\n",
    "# call the animator.  blit=True means only re-draw the parts that have changed.\n",
    "anim = animation.FuncAnimation(fig, animate, init_func=init,\n",
    "                               frames=500, interval=20, blit=True)\n",
    "\n",
    "anim.save('basic_animation.mp4', fps=30, extra_args=['-vcodec', 'libx264'])\n",
    "\n",
    "#\n",
    "# Hieronder zie je maar een enkele screenshot.... \n",
    "# Voer de notebook cell hieronder uit om de animatie te bekijken\n",
    "#"
   ]
  },
  {
   "cell_type": "code",
   "execution_count": null,
   "metadata": {},
   "outputs": [],
   "source": [
    "#\n",
    "# this we use to display the animation in the jupyter notebook\n",
    "#\n",
    "from IPython.display import HTML\n",
    "\n",
    "HTML(anim.to_html5_video())"
   ]
  },
  {
   "cell_type": "code",
   "execution_count": null,
   "metadata": {},
   "outputs": [],
   "source": []
  }
 ],
 "metadata": {
  "kernelspec": {
   "display_name": "Python 3",
   "language": "python",
   "name": "python3"
  },
  "language_info": {
   "codemirror_mode": {
    "name": "ipython",
    "version": 3
   },
   "file_extension": ".py",
   "mimetype": "text/x-python",
   "name": "python",
   "nbconvert_exporter": "python",
   "pygments_lexer": "ipython3",
   "version": "3.7.6"
  }
 },
 "nbformat": 4,
 "nbformat_minor": 4
}
