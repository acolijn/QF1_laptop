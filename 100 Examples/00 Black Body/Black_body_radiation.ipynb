{
 "cells": [
  {
   "cell_type": "markdown",
   "metadata": {},
   "source": [
    "## Black Body Radiation\n",
    "\n",
    "Klassieke mechanica was mooi, maar kon aan het einde van de 19e eeuw toch niet alle verschijnselen beschrijven en verklaren. Een van de beromedste voorbeelden is de straling die wordt uitgezonden door een zogenaamde 'zwarte straler'. De klassieke mechanica laat een zwarte straler oneindig veel straling met een korte golflengte uistralen, terwijl metingen (en gezond verstand) je zeggen dat dit onmogelijk het geval kan zijn.\n",
    "\n",
    "De quantum mechanica biedt uitkomst. Als het spectrum aan de hand van quantum mechanische harmonische oscillatoren wordt berekend, komen de resultaten prachtig overeen met het gezonden verstand en de meetgegegevens."
   ]
  },
  {
   "cell_type": "code",
   "execution_count": 1,
   "metadata": {},
   "outputs": [],
   "source": [
    "import sympy\n",
    "from sympy import *\n",
    "from sympy.plotting import plot\n",
    "from sympy import Derivative, Function, Symbol\n",
    "from sympy.physics.quantum.operator import DifferentialOperator\n",
    "from sympy.physics.quantum.state import Wavefunction\n",
    "from sympy.physics.quantum.qapply import qapply\n",
    "import scipy.integrate as Nintegrate\n",
    "\n",
    "\n",
    "%matplotlib inline\n",
    "from ipywidgets import interactive\n",
    "import matplotlib.pyplot as plt\n",
    "import numpy as np"
   ]
  },
  {
   "cell_type": "markdown",
   "metadata": {},
   "source": [
    "### Natuurconstanten\n",
    "\n",
    "  * De constante vann Planck, $h$ (Wat zijn de eenheden?)\n",
    "  * De lichtsnelheid, $c$\n",
    "  * De constante van Boltzmann, $k$\n",
    "  * De constante van Wien, $b$\n",
    "\n",
    "Wonderlijk, maar waar. De straling van de zwarte straler brengt quantummechanica en relativiteitstheorie en thermodynamica bijeen."
   ]
  },
  {
   "cell_type": "code",
   "execution_count": 2,
   "metadata": {},
   "outputs": [],
   "source": [
    "h = 6.626007015e-34\n",
    "c = 2.99792458e8\n",
    "k = 1.380649e-23\n",
    "b = 2.89771955e-3"
   ]
  },
  {
   "cell_type": "markdown",
   "metadata": {},
   "source": [
    "### De quantum mechaniche formule\n",
    "\n",
    "De flux van straling van een zwarte straler met temperatuur $T$, bij een gegeven waarde van de golflengte, $\\lambda$, wordt gegeven door:\n",
    "$$B(\\lambda,T) = \\frac{2 h}{c^2 \\lambda^5}\\frac{1}{\\exp{\\left(\\frac{h c}{\\lambda k T}\\right)} -1}$$"
   ]
  },
  {
   "cell_type": "code",
   "execution_count": 3,
   "metadata": {},
   "outputs": [],
   "source": [
    "# flux\n",
    "def B(T, l):\n",
    "    l = l*1e-6\n",
    "    arg = h*c/l/k/T\n",
    "    return 2*h/c**2/l**5/(np.exp(arg) - 1.)\n",
    "\n",
    "# leuke functie om een kleur te krijgen die een temperatuur representeert.\n",
    "def get_col(T):\n",
    "    cmax = 0.8\n",
    "    cmin = 0.2\n",
    "    a = (cmax-cmin)/(Tmax-Tmin)\n",
    "    b = cmax - a*Tmax\n",
    "    return a*T + b"
   ]
  },
  {
   "cell_type": "markdown",
   "metadata": {},
   "source": [
    "### Plotten van de functie\n",
    "\n",
    "Een interactieve plot van het spectrum van de zwarte straler, waarbij de temperaturu kan worden gevarieerd met een slider-bar."
   ]
  },
  {
   "cell_type": "code",
   "execution_count": 12,
   "metadata": {},
   "outputs": [
    {
     "data": {
      "application/vnd.jupyter.widget-view+json": {
       "model_id": "a831285af7c04de189c7f45f4e0b59ef",
       "version_major": 2,
       "version_minor": 0
      },
      "text/plain": [
       "interactive(children=(FloatSlider(value=3700.0, description='T', max=5500.0, min=2000.0, step=100.0), Output()…"
      ]
     },
     "metadata": {},
     "output_type": "display_data"
    }
   ],
   "source": [
    "from matplotlib import cm\n",
    "plt.rcParams[\"figure.figsize\"] = [10, 7]\n",
    "\n",
    "Tmin = 2000.\n",
    "Tmax = 5500.\n",
    "Trange = np.arange(Tmin,Tmax,10.)\n",
    "\n",
    "l = np.arange(0.01,2.,0.01) # in micrometer\n",
    "def planck_plot(T):\n",
    "    #\n",
    "    #\n",
    "    #\n",
    "    x = []\n",
    "    y = []\n",
    "    for TT in np.arange(Tmin/2,Tmax*2,10):\n",
    "        lmax = b/TT*1e6\n",
    "        Bmax = B(TT,lmax)\n",
    "        x.append(lmax)\n",
    "        y.append(Bmax)\n",
    "        \n",
    "    print()\n",
    "    plt.plot(x,y,'--',color='white',linewidth=1.) \n",
    "\n",
    "    #\n",
    "    #\n",
    "    #\n",
    "\n",
    "    Blmax = B(Tmax,l)\n",
    "    plt.plot(l,Blmax,c=cm.hot(get_col(Tmax)), linewidth=2)\n",
    "    \n",
    "    Bl = B(T,l)\n",
    "    plt.plot(l,Bl,c=cm.hot(get_col(T)), linewidth=2)\n",
    "    \n",
    "    text = '$\\lambda$ ($\\mu$m)'\n",
    "    #plt.yscale('log')\n",
    "    plt.xlabel(text)\n",
    "    plt.xlim([0.,2])\n",
    "    plt.ylim([0,np.max(Blmax)*1.2])\n",
    "    ax = plt.gca()\n",
    "    ax.set_facecolor('navy')\n",
    "    text = 'T={:4.0f}K \\n$\\lambda_{{max}}$ = {:3.2} $\\mu$m '.format(T,b/T*1e6)\n",
    "    plt.text(1.2,2.2e-21,text,c=cm.hot(get_col(T)),fontsize=15)\n",
    "    plt.show()\n",
    "\n",
    "#\n",
    "# en maak een mooie interactieve plot voor het spectrum van de zwarte straler\n",
    "#\n",
    "interactive_plot = interactive(planck_plot, T=(Tmin, Tmax, 100.))\n",
    "interactive_plot\n"
   ]
  },
  {
   "cell_type": "code",
   "execution_count": null,
   "metadata": {},
   "outputs": [],
   "source": []
  }
 ],
 "metadata": {
  "kernelspec": {
   "display_name": "Python 3",
   "language": "python",
   "name": "python3"
  },
  "language_info": {
   "codemirror_mode": {
    "name": "ipython",
    "version": 3
   },
   "file_extension": ".py",
   "mimetype": "text/x-python",
   "name": "python",
   "nbconvert_exporter": "python",
   "pygments_lexer": "ipython3",
   "version": "3.7.6"
  }
 },
 "nbformat": 4,
 "nbformat_minor": 4
}
