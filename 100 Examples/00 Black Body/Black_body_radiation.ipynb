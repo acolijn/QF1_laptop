{
 "cells": [
  {
   "cell_type": "code",
   "execution_count": 1,
   "metadata": {},
   "outputs": [],
   "source": [
    "import sympy\n",
    "from sympy import *\n",
    "from sympy.plotting import plot\n",
    "from sympy import Derivative, Function, Symbol\n",
    "from sympy.physics.quantum.operator import DifferentialOperator\n",
    "from sympy.physics.quantum.state import Wavefunction\n",
    "from sympy.physics.quantum.qapply import qapply\n",
    "import scipy.integrate as Nintegrate\n",
    "\n",
    "\n",
    "%matplotlib inline\n",
    "from ipywidgets import interactive\n",
    "import matplotlib.pyplot as plt\n",
    "import numpy as np"
   ]
  },
  {
   "cell_type": "code",
   "execution_count": 80,
   "metadata": {},
   "outputs": [],
   "source": [
    "h = 6.626007015e-34\n",
    "c = 2.99792458e8\n",
    "k = 1.380649e-23\n",
    "b = 2.89771955e-3"
   ]
  },
  {
   "cell_type": "code",
   "execution_count": 132,
   "metadata": {},
   "outputs": [],
   "source": [
    "def B(T, l):\n",
    "    l = l*1e-6\n",
    "    arg = h*c/l/k/T\n",
    "    return 2*h/c**2/l**5/(np.exp(arg) - 1.)\n",
    "\n",
    "def get_col(T):\n",
    "    cmax = 0.8\n",
    "    cmin = 0.2\n",
    "    a = (cmax-cmin)/(Tmax-Tmin)\n",
    "    b = cmax - a*Tmax\n",
    "    return a*T + b"
   ]
  },
  {
   "cell_type": "code",
   "execution_count": 161,
   "metadata": {},
   "outputs": [
    {
     "data": {
      "application/vnd.jupyter.widget-view+json": {
       "model_id": "3a012c55ca664328978f19bcd4638f2f",
       "version_major": 2,
       "version_minor": 0
      },
      "text/plain": [
       "interactive(children=(FloatSlider(value=3700.0, description='T', max=5500.0, min=2000.0, step=100.0), Output()…"
      ]
     },
     "metadata": {},
     "output_type": "display_data"
    }
   ],
   "source": [
    "from matplotlib import cm\n",
    "\n",
    "Tmin = 2000.\n",
    "Tmax = 5500.\n",
    "Trange = np.arange(Tmin,Tmax,10.)\n",
    "\n",
    "l = np.arange(0.01,2.,0.01) # in micrometer\n",
    "def planck_plot(T):\n",
    "    #\n",
    "    #\n",
    "    #\n",
    "    x = []\n",
    "    y = []\n",
    "    for TT in np.arange(Tmin/2,Tmax*2,10):\n",
    "        lmax = b/TT*1e6\n",
    "        Bmax = B(TT,lmax)\n",
    "        x.append(lmax)\n",
    "        y.append(Bmax)\n",
    "        \n",
    "    print()\n",
    "    plt.plot(x,y,'--',color='white',linewidth=1.) \n",
    "    #\n",
    "    #\n",
    "    #\n",
    "\n",
    "    Blmax = B(Tmax,l)\n",
    "    plt.plot(l,Blmax,c=cm.hot(get_col(Tmax)))\n",
    "    \n",
    "    Bl = B(T,l)\n",
    "    plt.plot(l,Bl,c=cm.hot(get_col(T)))\n",
    "    \n",
    "    text = '$\\lambda$ ($\\mu$m)'\n",
    "    #plt.yscale('log')\n",
    "    plt.xlabel(text)\n",
    "    plt.xlim([0.,2])\n",
    "    plt.ylim([0,np.max(Blmax)*1.2])\n",
    "    ax = plt.gca()\n",
    "    ax.set_facecolor('navy')\n",
    "    text = 'T={:4.0f}K \\n$\\lambda_{{max}}$ = {:3.2} $\\mu$m '.format(T,b/T*1e6)\n",
    "    plt.text(1.2,2.2e-21,text,c=cm.hot(get_col(T)),fontsize=15)\n",
    "    plt.show()\n",
    "\n",
    "interactive_plot = interactive(planck_plot, T=(Tmin, Tmax,100.))\n",
    "interactive_plot\n"
   ]
  },
  {
   "cell_type": "code",
   "execution_count": 164,
   "metadata": {},
   "outputs": [
    {
     "ename": "NameError",
     "evalue": "name 'fig' is not defined",
     "output_type": "error",
     "traceback": [
      "\u001b[1;31m---------------------------------------------------------------------------\u001b[0m",
      "\u001b[1;31mNameError\u001b[0m                                 Traceback (most recent call last)",
      "\u001b[1;32m<ipython-input-164-13882e066ba4>\u001b[0m in \u001b[0;36m<module>\u001b[1;34m\u001b[0m\n\u001b[1;32m----> 1\u001b[1;33m \u001b[0mplt\u001b[0m \u001b[1;33m=\u001b[0m \u001b[0mfig\u001b[0m\u001b[1;33m.\u001b[0m\u001b[0mgcf\u001b[0m\u001b[1;33m(\u001b[0m\u001b[1;33m)\u001b[0m\u001b[1;33m\u001b[0m\u001b[1;33m\u001b[0m\u001b[0m\n\u001b[0m\u001b[0;32m      2\u001b[0m \u001b[0mplt\u001b[0m\u001b[1;33m.\u001b[0m\u001b[0mshow\u001b[0m\u001b[1;33m(\u001b[0m\u001b[1;33m)\u001b[0m\u001b[1;33m\u001b[0m\u001b[1;33m\u001b[0m\u001b[0m\n",
      "\u001b[1;31mNameError\u001b[0m: name 'fig' is not defined"
     ]
    }
   ],
   "source": [
    "plt = fig.gcf()\n",
    "plt.show()\n"
   ]
  },
  {
   "cell_type": "code",
   "execution_count": null,
   "metadata": {},
   "outputs": [],
   "source": []
  },
  {
   "cell_type": "code",
   "execution_count": null,
   "metadata": {},
   "outputs": [],
   "source": []
  }
 ],
 "metadata": {
  "kernelspec": {
   "display_name": "Python 3",
   "language": "python",
   "name": "python3"
  },
  "language_info": {
   "codemirror_mode": {
    "name": "ipython",
    "version": 3
   },
   "file_extension": ".py",
   "mimetype": "text/x-python",
   "name": "python",
   "nbconvert_exporter": "python",
   "pygments_lexer": "ipython3",
   "version": "3.7.6"
  }
 },
 "nbformat": 4,
 "nbformat_minor": 4
}
