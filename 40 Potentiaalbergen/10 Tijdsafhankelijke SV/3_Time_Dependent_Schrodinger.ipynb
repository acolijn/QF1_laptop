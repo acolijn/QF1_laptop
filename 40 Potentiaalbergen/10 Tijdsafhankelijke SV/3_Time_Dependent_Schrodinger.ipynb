{
 "cells": [
  {
   "cell_type": "markdown",
   "metadata": {},
   "source": [
    "# Een bewegend golfpakketje"
   ]
  },
  {
   "cell_type": "markdown",
   "metadata": {},
   "source": [
    "Voor deze opgave gaan we kijken hoe een golfpakketje zich gedraagt als functie van de tijd. We gaan hier niet alleen kijken naar een vrij deeltje, maar ook naar een deeltje dat een potentiaal put of berg tegenkomt. Of meerdere putten en bergen.\n",
    "\n",
    "De methode die we gebruiken om de Schrodinger vergelijking op te lossen heet de Split Step Fourier Method (SSFM). Dat is een slimme methode om de tijdsafhankelijk SV numeriek op te lossen. Deze methode zit verpakt in de schrodinger.py file in de Schrodinger python class. Ik vind de SSFM een van de coolste methodes die ikzelf heb gezien om numeriek een DV op te lossen, maar in principe kan je deze opdracht doen zonder onder de motorkap te kijken van de oplosmethode. Het gaat ook hier om het bestuderen van quantummechanica - en niet om numerieke methodes.\n",
    "\n",
    "\n",
    "*Credits:*\n",
    "\n",
    "General Numerical Solver for the 1D Time-Dependent Schrodinger's equation.  \n",
    "author: Jake Vanderplas   \n",
    "email: vanderplas@astro.washington.edu  \n",
    "website: http://jakevdp.github.com  \n",
    "license: BSD  \n",
    "Please feel free to use and modify this, but keep the above information. Thanks!  \n"
   ]
  },
  {
   "cell_type": "code",
   "execution_count": null,
   "metadata": {},
   "outputs": [],
   "source": [
    "import numpy as np\n",
    "\n",
    "from sympy import *\n",
    "import scipy.integrate as integrate\n",
    "\n",
    "from matplotlib import pyplot as pl\n",
    "from matplotlib import animation\n",
    "from scipy.fftpack import fft,ifft\n",
    "from IPython.display import HTML\n",
    "\n",
    "#\n",
    "# door het schrodinger pakket te importeren kan je de split-step Fourier methode gebruiken\n",
    "#\n",
    "from schrodinger import Schrodinger "
   ]
  },
  {
   "cell_type": "markdown",
   "metadata": {},
   "source": [
    "We definieren een golfpakket dat zich op $t=0$ op positie $x_0$ bevindt met breedte $\\sigma=a$. Het momentum van het golfpakket is $k_0$. Het golfpakket ziet er dus als volgt uit:\n",
    "\n",
    "$$\\Psi(x) = \\frac{1}{\\sqrt{\\sigma \\sqrt{\\pi}}} \\exp{\\left(-\\frac{1}{2}\\frac{(x-x_0)^2}{\\sigma^2}+i k_0 x\\right)}$$ "
   ]
  },
  {
   "cell_type": "code",
   "execution_count": null,
   "metadata": {},
   "outputs": [],
   "source": [
    "# Definieer een Gaussisch golfpakket in plaats-representatie\n",
    "def gauss_x(x, a, x0, k0):\n",
    "    \"\"\"\n",
    "    a gaussian wave packet of width a, centered at x0, with momentum k0\n",
    "    \"\"\" \n",
    "    y = np.zeros(1,dtype=complex)\n",
    "    return ((a * np.sqrt(np.pi)) ** (-0.5) * np.exp(-0.5 * ((x - x0) * 1. / a) ** 2 + 1j * x * k0))\n",
    "\n",
    "# ... en ook in momentum representatie\n",
    "def gauss_k(k,a,x0,k0):\n",
    "    \"\"\"\n",
    "    analytical fourier transform of gauss_x(x), above\n",
    "    \"\"\"\n",
    "    return ((a / np.sqrt(np.pi))**0.5* np.exp(-0.5 * (a * (k - k0)) ** 2 - 1j * (k - k0) * x0))"
   ]
  },
  {
   "cell_type": "markdown",
   "metadata": {},
   "source": [
    "**a)** Gebruik de *integrate* functie uit *scipy* om de normalisatie te verifieren van het golfpakket. We gebruiken hier geen symbolische integraties meer uit *sympy*. Deze hele opdracht is een numeriek feestje."
   ]
  },
  {
   "cell_type": "code",
   "execution_count": null,
   "metadata": {},
   "outputs": [],
   "source": [
    "# het reele deel\n",
    "\n",
    "# de \"lambda x:\" maakt van de symbolische functie een numeriek geval\n",
    "Re_norm = integrate.quad(lambda x: np.real(gauss_x(x,1.,1.,1.)*np.conjugate(gauss_x(x,1.,1.,1.))),-oo,+oo)[0]\n",
    "# en het imaginaire deel\n",
    "Im_norm = integrate.quad(lambda x: np.imag(gauss_x(x,1.,1.,1.)*np.conjugate(gauss_x(x,1.,1.,1.))),-oo,+oo)[0]\n",
    "\n",
    "print('normalisatie = ',Re_norm,\" + \",Im_norm,\"i\")"
   ]
  },
  {
   "cell_type": "markdown",
   "metadata": {},
   "source": [
    "**b)** Hieronder worden een paar belangrijke functies gedefinieerd, waarmee je later de potentiele energie assembleert. Nu staat er bij \"def square_barrier()\" een dubbele barriere met bepaalde hooggte en breedte. Misschien kan je zelf een driedubbele barriere maken?"
   ]
  },
  {
   "cell_type": "code",
   "execution_count": null,
   "metadata": {},
   "outputs": [],
   "source": [
    "######################################################################\n",
    "# Utility functions for running the animation\n",
    "def theta(x):\n",
    "    \"\"\"\n",
    "    theta function :\n",
    "      returns 0 if x<=0, and 1 if x>0\n",
    "    \"\"\"\n",
    "    x = np.asarray(x)\n",
    "    y = np.zeros(x.shape)\n",
    "    y[x > 0] = 1.0\n",
    "    return y\n",
    "\n",
    "def square_barrier(x, width, height):\n",
    "    return height * (theta(x) - theta(x - width))+ height *(theta(x-20) - theta(x- 20 -width))"
   ]
  },
  {
   "cell_type": "markdown",
   "metadata": {},
   "source": [
    "**c)** Nu worden de tijdstappen gedefinieerd. daaruit wordt het aantal stappen voor de animatie later bepaald."
   ]
  },
  {
   "cell_type": "code",
   "execution_count": null,
   "metadata": {},
   "outputs": [],
   "source": [
    "# specify time steps and duration\n",
    "dt = 0.01\n",
    "N_steps = 50\n",
    "t_max = 200\n",
    "frames = int(t_max / float(N_steps * dt))\n",
    "\n",
    "# specify constants\n",
    "hbar = 1.0   # planck's constant\n",
    "m = 1.9      # particle mass"
   ]
  },
  {
   "cell_type": "markdown",
   "metadata": {},
   "source": [
    "**d)** Het domein in $x$ wordt verdeeld in $2^n$ bins. De reden hiervoor is dat de Fourier transformaties onder de motorkap dit erg op prijs stellen."
   ]
  },
  {
   "cell_type": "code",
   "execution_count": null,
   "metadata": {},
   "outputs": [],
   "source": [
    "# specify range in x coordinate\n",
    "N = 2 ** 11\n",
    "dx = 0.1\n",
    "x = dx * (np.arange(N) - 0.5 * N)"
   ]
  },
  {
   "cell_type": "markdown",
   "metadata": {},
   "source": [
    "**1e)** Definieer de potentiaal. In dit geval een paar barrieres, maar daar kan je zelf iets anders van maken!"
   ]
  },
  {
   "cell_type": "code",
   "execution_count": null,
   "metadata": {},
   "outputs": [],
   "source": [
    "#\n",
    "# specify potential\n",
    "#\n",
    "V0 = 1.5\n",
    "L = hbar / np.sqrt(2 * m * V0)\n",
    "a = 3 * L\n",
    "x0 = -60 * L\n",
    "V_x = square_barrier(x, a, V0)\n",
    "\n",
    "#\n",
    "# zorg ervoor dat de potentiaal oneindig groot is op het randje: anders wordt dit een numeriek drama\n",
    "#\n",
    "V_x[x < -98] = 1E6\n",
    "V_x[x > 98] = 1E6"
   ]
  },
  {
   "cell_type": "markdown",
   "metadata": {},
   "source": [
    "**1f)** Definieer de initiele impulse ven het deeltje en geef alle relevante parameters aan het \"Schrodinger\" object dat alle berekeningen kan uitvoeren"
   ]
  },
  {
   "cell_type": "code",
   "execution_count": null,
   "metadata": {},
   "outputs": [],
   "source": [
    "#\n",
    "# specify initial momentum and quantities derived from it\n",
    "#\n",
    "p0 = np.sqrt(2 * m * 0.2 * V0)\n",
    "dp2 = p0 * p0 * 1./80\n",
    "d = hbar / np.sqrt(2 * dp2)\n",
    "\n",
    "k0 = p0 / hbar\n",
    "v0 = p0 / m\n",
    "psi_x0 = gauss_x(x, d, x0, k0)\n",
    "\n",
    "# define the Schrodinger object which performs the calculations\n",
    "S = Schrodinger(x=x,\n",
    "                psi_x0=psi_x0,\n",
    "                V_x=V_x,\n",
    "                hbar=hbar,\n",
    "                m=m,\n",
    "                k0=-28)"
   ]
  },
  {
   "cell_type": "markdown",
   "metadata": {},
   "source": [
    "**1g)** Bereken en annimeer de oplossing!"
   ]
  },
  {
   "cell_type": "code",
   "execution_count": null,
   "metadata": {},
   "outputs": [],
   "source": [
    "######################################################################\n",
    "# Set up plot\n",
    "fig = pl.figure(figsize=(10,8))\n",
    "\n",
    "# plotting limits\n",
    "xlim = (-100, 100)\n",
    "klim = (-5, 5)\n",
    "\n",
    "# top axes show the x-space data\n",
    "ymin = 0\n",
    "ymax = V0\n",
    "ax1 = fig.add_subplot(211, xlim=xlim,\n",
    "                      ylim=(ymin - 0.2 * (ymax - ymin),\n",
    "                            ymax + 0.2 * (ymax - ymin)))\n",
    "psi_x_line, = ax1.plot([], [], c='r', label=r'$|\\psi(x)|$')\n",
    "V_x_line, = ax1.plot([], [], c='k', label=r'$V(x)$')\n",
    "#center_line = ax1.axvline(0, c='k', ls=':',\n",
    "#                          label = r\"$x_0 + v_0t$\")\n",
    "\n",
    "title = ax1.set_title(\"\")\n",
    "ax1.legend(prop=dict(size=12))\n",
    "ax1.set_xlabel('$x$')\n",
    "ax1.set_ylabel(r'$|\\psi(x)|$')\n",
    "\n",
    "# bottom axes show the k-space data\n",
    "ymin = abs(S.psi_k).min()\n",
    "ymax = abs(S.psi_k).max()\n",
    "ax2 = fig.add_subplot(212, xlim=klim,\n",
    "                      ylim=(ymin - 0.2 * (ymax - ymin),\n",
    "                            ymax + 0.2 * (ymax - ymin)))\n",
    "psi_k_line, = ax2.plot([], [], c='r', label=r'$|\\psi(k)|$')\n",
    "\n",
    "ax2.legend(prop=dict(size=12))\n",
    "ax2.set_xlabel('$k$')\n",
    "ax2.set_ylabel(r'$|\\psi(k)|$')\n",
    "\n",
    "V_x_line.set_data(S.x, S.V_x)\n",
    "\n",
    "######################################################################\n",
    "# Animate plot\n",
    "def init():\n",
    "    psi_x_line.set_data([], [])\n",
    "    V_x_line.set_data([], [])\n",
    "\n",
    "    psi_k_line.set_data([], [])\n",
    "    title.set_text(\"\")\n",
    "    return (psi_x_line, V_x_line, title)\n",
    "\n",
    "def animate(i):\n",
    "    S.time_step(dt, N_steps)\n",
    "    psi_x_line.set_data(S.x, 4 * abs(S.psi_x))\n",
    "    V_x_line.set_data(S.x, S.V_x)\n",
    "\n",
    "    psi_k_line.set_data(S.k, abs(S.psi_k))\n",
    "    title.set_text(\"t = %.2f\" % S.t)\n",
    "    return (psi_x_line, V_x_line, title)\n",
    "\n",
    "# call the animator.  blit=True means only re-draw the parts that have changed.\n",
    "anim = animation.FuncAnimation(fig, animate, init_func=init,\n",
    "                               frames=frames, interval=30, blit=True)\n",
    "\n",
    "\n",
    "# uncomment the following line to save the video in mp4 format.  This\n",
    "# requires either mencoder or ffmpeg to be installed on your system\n",
    "\n",
    "#anim.save('schrodinger_barrier.mp4', fps=15, extra_args=['-vcodec', 'libx264'])\n",
    "\n",
    "#pl.show()\n",
    "HTML(anim.to_html5_video())"
   ]
  }
 ],
 "metadata": {
  "kernelspec": {
   "display_name": "Python 3",
   "language": "python",
   "name": "python3"
  },
  "language_info": {
   "codemirror_mode": {
    "name": "ipython",
    "version": 3
   },
   "file_extension": ".py",
   "mimetype": "text/x-python",
   "name": "python",
   "nbconvert_exporter": "python",
   "pygments_lexer": "ipython3",
   "version": "3.7.6"
  }
 },
 "nbformat": 4,
 "nbformat_minor": 2
}
